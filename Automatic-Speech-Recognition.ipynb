{
  "nbformat": 4,
  "nbformat_minor": 0,
  "metadata": {
    "colab": {
      "name": "ASR Fluent",
      "provenance": [],
      "collapsed_sections": []
    },
    "kernelspec": {
      "name": "python3",
      "display_name": "Python 3"
    }
  },
  "cells": [
    {
      "cell_type": "code",
      "metadata": {
        "id": "wxPS8zz2V1RT",
        "colab": {
          "base_uri": "https://localhost:8080/",
          "height": 52
        },
        "outputId": "3b855174-a9c9-4f7f-9241-7620c5482cab"
      },
      "source": [
        "from google.colab import drive\n",
        "\n",
        "drive.mount('/content/drive', force_remount=True)\n",
        "%cd 'drive/My Drive/Voice Controlled Home Assistant'"
      ],
      "execution_count": null,
      "outputs": [
        {
          "output_type": "stream",
          "text": [
            "Mounted at /content/drive\n",
            "/content/drive/My Drive/Voice Controlled Home Assistant\n"
          ],
          "name": "stdout"
        }
      ]
    },
    {
      "cell_type": "markdown",
      "metadata": {
        "id": "ZFKiq1cYCjJh"
      },
      "source": [
        "# Setting Up"
      ]
    },
    {
      "cell_type": "code",
      "metadata": {
        "id": "kDLrJmkio83d"
      },
      "source": [
        "!pip install tensorflow==1.15\n",
        "!pip install tensorflow-gpu==1.15\n",
        "!pip install keras==2.3.0"
      ],
      "execution_count": null,
      "outputs": []
    },
    {
      "cell_type": "markdown",
      "metadata": {
        "id": "REr6QXq9r9Uu"
      },
      "source": [
        "# Importing Libraries"
      ]
    },
    {
      "cell_type": "code",
      "metadata": {
        "id": "OcU38xgGWqF2",
        "colab": {
          "base_uri": "https://localhost:8080/",
          "height": 34
        },
        "outputId": "391e1578-0910-4453-eb96-1def33dfaa97"
      },
      "source": [
        "import pandas as pd\n",
        "import soundfile as sf\n",
        "import matplotlib.pyplot as plt\n",
        "from scipy import signal\n",
        "from scipy.io import wavfile\n",
        "from python_speech_features import mfcc\n",
        "from utils import calc_feat_dim, spectrogram_from_file, text_to_int_sequence\n",
        "from mpl_toolkits.axes_grid1 import make_axes_locatable\n",
        "from matplotlib import cm\n",
        "import json\n",
        "from sklearn import preprocessing\n",
        "import numpy as np\n",
        "import wave     \n",
        "import os\n",
        "import random\n",
        "\n",
        "from keras.layers import GaussianNoise, Lambda\n",
        "from keras.optimizers import Adam, SGD\n",
        "import pickle\n",
        "from keras.preprocessing import sequence\n",
        "import numpy as np\n",
        "# Importing the libraries\n",
        "import keras\n",
        "from keras import backend as K\n",
        "from keras.models import Model\n",
        "from keras.layers import (BatchNormalization, Conv1D, Dense, Input, \n",
        "    TimeDistributed, Activation, Bidirectional, SimpleRNN, GRU, LSTM, Dropout, MaxPooling1D, Masking)\n",
        "from CTCModel import CTCModel"
      ],
      "execution_count": null,
      "outputs": [
        {
          "output_type": "stream",
          "text": [
            "Using TensorFlow backend.\n"
          ],
          "name": "stderr"
        }
      ]
    },
    {
      "cell_type": "code",
      "metadata": {
        "id": "i1Iej_yD83JO",
        "colab": {
          "base_uri": "https://localhost:8080/",
          "height": 52
        },
        "outputId": "4b2b8bfa-37f6-41ad-8eea-0c83a8278653"
      },
      "source": [
        "import tensorflow as tf\n",
        "print(tf.test.gpu_device_name())\n",
        "print(\"Num GPUs Available: \", len(tf.config.experimental.list_physical_devices('GPU')))"
      ],
      "execution_count": null,
      "outputs": [
        {
          "output_type": "stream",
          "text": [
            "/device:GPU:0\n",
            "Num GPUs Available:  1\n"
          ],
          "name": "stdout"
        }
      ]
    },
    {
      "cell_type": "markdown",
      "metadata": {
        "id": "TlBTDtEFCiFi"
      },
      "source": [
        "# Data Section & PreProcessing"
      ]
    },
    {
      "cell_type": "code",
      "metadata": {
        "id": "cyq6aqbhWi9d",
        "colab": {
          "base_uri": "https://localhost:8080/",
          "height": 288
        },
        "outputId": "f01da976-df3b-4f49-eeb1-9adb80c56f6a"
      },
      "source": [
        "df = pd.read_csv(\"Fluent/data/train_data.csv\")\n",
        "paths = df['path']\n",
        "transcriptions = df['transcription']\n",
        "actions = df['action']\n",
        "objects = df['object']\n",
        "locations = df['location']\n",
        "df.head()"
      ],
      "execution_count": null,
      "outputs": [
        {
          "output_type": "execute_result",
          "data": {
            "text/html": [
              "<div>\n",
              "<style scoped>\n",
              "    .dataframe tbody tr th:only-of-type {\n",
              "        vertical-align: middle;\n",
              "    }\n",
              "\n",
              "    .dataframe tbody tr th {\n",
              "        vertical-align: top;\n",
              "    }\n",
              "\n",
              "    .dataframe thead th {\n",
              "        text-align: right;\n",
              "    }\n",
              "</style>\n",
              "<table border=\"1\" class=\"dataframe\">\n",
              "  <thead>\n",
              "    <tr style=\"text-align: right;\">\n",
              "      <th></th>\n",
              "      <th>Unnamed: 0</th>\n",
              "      <th>path</th>\n",
              "      <th>speakerId</th>\n",
              "      <th>transcription</th>\n",
              "      <th>action</th>\n",
              "      <th>object</th>\n",
              "      <th>location</th>\n",
              "    </tr>\n",
              "  </thead>\n",
              "  <tbody>\n",
              "    <tr>\n",
              "      <th>0</th>\n",
              "      <td>0</td>\n",
              "      <td>wavs/speakers/2BqVo8kVB2Skwgyb/0a3129c0-4474-1...</td>\n",
              "      <td>2BqVo8kVB2Skwgyb</td>\n",
              "      <td>Change language</td>\n",
              "      <td>change language</td>\n",
              "      <td>none</td>\n",
              "      <td>none</td>\n",
              "    </tr>\n",
              "    <tr>\n",
              "      <th>1</th>\n",
              "      <td>1</td>\n",
              "      <td>wavs/speakers/2BqVo8kVB2Skwgyb/0ee42a80-4474-1...</td>\n",
              "      <td>2BqVo8kVB2Skwgyb</td>\n",
              "      <td>Resume</td>\n",
              "      <td>activate</td>\n",
              "      <td>music</td>\n",
              "      <td>none</td>\n",
              "    </tr>\n",
              "    <tr>\n",
              "      <th>2</th>\n",
              "      <td>2</td>\n",
              "      <td>wavs/speakers/2BqVo8kVB2Skwgyb/144d5be0-4474-1...</td>\n",
              "      <td>2BqVo8kVB2Skwgyb</td>\n",
              "      <td>Turn the lights on</td>\n",
              "      <td>activate</td>\n",
              "      <td>lights</td>\n",
              "      <td>none</td>\n",
              "    </tr>\n",
              "    <tr>\n",
              "      <th>3</th>\n",
              "      <td>3</td>\n",
              "      <td>wavs/speakers/2BqVo8kVB2Skwgyb/1811b6e0-4474-1...</td>\n",
              "      <td>2BqVo8kVB2Skwgyb</td>\n",
              "      <td>Switch on the lights</td>\n",
              "      <td>activate</td>\n",
              "      <td>lights</td>\n",
              "      <td>none</td>\n",
              "    </tr>\n",
              "    <tr>\n",
              "      <th>4</th>\n",
              "      <td>4</td>\n",
              "      <td>wavs/speakers/2BqVo8kVB2Skwgyb/1d9f3920-4474-1...</td>\n",
              "      <td>2BqVo8kVB2Skwgyb</td>\n",
              "      <td>Switch off the lights</td>\n",
              "      <td>deactivate</td>\n",
              "      <td>lights</td>\n",
              "      <td>none</td>\n",
              "    </tr>\n",
              "  </tbody>\n",
              "</table>\n",
              "</div>"
            ],
            "text/plain": [
              "   Unnamed: 0  ... location\n",
              "0           0  ...     none\n",
              "1           1  ...     none\n",
              "2           2  ...     none\n",
              "3           3  ...     none\n",
              "4           4  ...     none\n",
              "\n",
              "[5 rows x 7 columns]"
            ]
          },
          "metadata": {
            "tags": []
          },
          "execution_count": 3
        }
      ]
    },
    {
      "cell_type": "markdown",
      "metadata": {
        "id": "2f6-6AtGCxBi"
      },
      "source": [
        "## Make & Load Data"
      ]
    },
    {
      "cell_type": "code",
      "metadata": {
        "id": "I3kia6PgtvL-"
      },
      "source": [
        "import json\n",
        "\n",
        "def make_data(data_type):\n",
        "\n",
        "    for corpus in data_type:\n",
        "        all = []\n",
        "        df_list = pd.read_csv(\"Fluent/data/\"+corpus+\"_data.csv\").values.tolist()\n",
        "        for row in df_list:\n",
        "            all.append([ row[1], row[3], row[4], row[5], row[6] ])\n",
        "\n",
        "        with open(\"fluent_\"+corpus+\".json\", 'w') as out_file:\n",
        "            for i in range(len(all)):\n",
        "                line = json.dumps({'key': all[i][0], 'text': all[i][1], 'action': all[i][2], 'object': all[i][3], 'location': all[i][4]})\n",
        "                out_file.write(line + '\\n')\n",
        "\n",
        "make_data(['train', 'valid', 'test'])"
      ],
      "execution_count": null,
      "outputs": []
    },
    {
      "cell_type": "code",
      "metadata": {
        "id": "v7Qlqdfe2gc8"
      },
      "source": [
        "def load_data(desc_file):\n",
        "    # Load Data from Json file\n",
        "    audio_paths, texts, actions, objects, locations = [], [], [], [], []\n",
        "    with open(desc_file) as json_line_file:\n",
        "        for line_num, json_line in enumerate(json_line_file):\n",
        "            try:\n",
        "                spec = json.loads(json_line)\n",
        "                audio_paths.append(spec['key'])\n",
        "                texts.append(spec['text'])\n",
        "                actions.append(spec['action'])\n",
        "                objects.append(spec['object'])\n",
        "                locations.append(spec['location'])\n",
        "            except Exception as e:\n",
        "                print('Error reading line #{}: {}'\n",
        "                            .format(line_num, json_line))\n",
        "    return audio_paths, texts, actions, objects, locations"
      ],
      "execution_count": null,
      "outputs": []
    },
    {
      "cell_type": "markdown",
      "metadata": {
        "id": "rbBN_CNUC0Yn"
      },
      "source": [
        "## Define Methods to Extract Feature From Audio"
      ]
    },
    {
      "cell_type": "markdown",
      "metadata": {
        "id": "4rEVbftGsDnA"
      },
      "source": [
        "**In this project, we used the MFCC features.**"
      ]
    },
    {
      "cell_type": "code",
      "metadata": {
        "id": "LL6j63D4irdD"
      },
      "source": [
        "def plot_spectrogram_feature(vis_spectrogram_feature):\n",
        "    # plot the normalized spectrogram\n",
        "    fig = plt.figure(figsize=(12,5))\n",
        "    ax = fig.add_subplot(111)\n",
        "    im = ax.imshow(vis_spectrogram_feature, cmap=plt.cm.jet, aspect='auto')\n",
        "    plt.title('Normalized Spectrogram')\n",
        "    plt.ylabel('Time')\n",
        "    plt.xlabel('Frequency')\n",
        "    divider = make_axes_locatable(ax)\n",
        "    cax = divider.append_axes(\"right\", size=\"5%\", pad=0.05)\n",
        "    plt.colorbar(im, cax=cax)\n",
        "    plt.show()\n",
        "\n",
        "def featurize_mfcc(audio):\n",
        "    sample_rate, samples = wavfile.read(audio)\n",
        "    return mfcc(samples, sample_rate)\n",
        "\n",
        "def visualize_features(corpus, audio_paths_index, features = \"mfcc\"):\n",
        "\n",
        "    audio_paths, texts, actions, objects, locations = load_data(corpus)\n",
        "    print(\"Audio Transcript : \\t\", texts[audio_paths_index])\n",
        "    print(\"Audio Detail : \\t\", actions[audio_paths_index], objects[audio_paths_index], locations[audio_paths_index])\n",
        "    \n",
        "    # Read File\n",
        "    sample_rate, samples = wavfile.read(\"Fluent/\"+audio_paths[audio_paths_index])\n",
        "    print(\"Shape of Signal : \\n\\t\" + str(samples.shape))\n",
        "\n",
        "    fig, (ax1, ax2) = plt.subplots(2, figsize=(15,10))\n",
        "    ax1.plot(samples)\n",
        "    print(\"\\n\")\n",
        "    if features == \"mfcc\":\n",
        "        # MFCC Spectrogram Features\n",
        "        ax2.imshow( featurize_mfcc(\"Fluent/\"+audio_paths[audio_paths_index]) , interpolation='nearest', cmap=cm.jet, origin='lower', aspect='auto')\n",
        "        ax2.set_title('MFCC Features')\n",
        "        plt.show()\n",
        "    elif features == \"spectrogram\":\n",
        "        # Spectrogram Features\n",
        "        spec = spectrogram_from_file(audio_paths[audio_paths_index], \n",
        "        step=10, \n",
        "        window=20,\n",
        "        max_freq=8000)\n",
        "        plot_spectrogram_feature(spec)"
      ],
      "execution_count": null,
      "outputs": []
    },
    {
      "cell_type": "code",
      "metadata": {
        "id": "nfgfJlMD1CNM",
        "colab": {
          "base_uri": "https://localhost:8080/",
          "height": 700
        },
        "outputId": "a540903d-4e54-4e4e-9558-4af778b34a16"
      },
      "source": [
        "visualize_features(corpus='fluent_train.json',\n",
        "                   audio_paths_index=50, \n",
        "                   features=\"mfcc\") # features set to mfcc by default, change to spectrogram if needed "
      ],
      "execution_count": null,
      "outputs": [
        {
          "output_type": "stream",
          "text": [
            "Audio Transcript : \t Turn the bedroom lights off\n",
            "Audio Detail : \t deactivate lights bedroom\n",
            "Shape of Signal : \n",
            "\t(40124,)\n",
            "\n",
            "\n"
          ],
          "name": "stdout"
        },
        {
          "output_type": "display_data",
          "data": {
            "image/png": "[encoded data removed]",
            "text/plain": [
              "<Figure size 1080x720 with 2 Axes>"
            ]
          },
          "metadata": {
            "tags": [],
            "needs_background": "light"
          }
        }
      ]
    },
    {
      "cell_type": "markdown",
      "metadata": {
        "id": "vHdaG4JvC7UY"
      },
      "source": [
        "## Preprocessing Labels following this steps\n",
        "\n",
        "*   Read  the Transcription of each audio\n",
        "*   Remove Special Characters\n",
        "*   Convert the text to Phonemes\n",
        "*   Convert the Phonemes to Integers\n",
        "\n",
        "\n",
        "\n"
      ]
    },
    {
      "cell_type": "code",
      "metadata": {
        "id": "EBs3vtQif_Av"
      },
      "source": [
        "bad_chars = [';', ':', '!', '*', ',', '.', '?', '/', '\\\\',] \n",
        "\n",
        "def remove_characters(text, bad_chars):\n",
        "    for i in bad_chars : \n",
        "        text = text.replace(i, '') \n",
        "    return text"
      ],
      "execution_count": null,
      "outputs": []
    },
    {
      "cell_type": "code",
      "metadata": {
        "id": "dG-GbVvJ4GNu"
      },
      "source": [
        "def letters2phonemes(sentence):\n",
        "    ret_phonemes = []\n",
        "\n",
        "    for word in sentence.split(' '):\n",
        "        for line in open('g2p/g2p/mappings/langs/eng/cmudict_SPHINX_40.txt'):\n",
        "            split = line.strip().split()\n",
        "            the_word = split[0]\n",
        "            phonemes = split[1:]\n",
        "            if the_word.lower() == word:\n",
        "                phonemes = ' '.join(split[1:]).lower()\n",
        "                ret_phonemes.append(phonemes)\n",
        "                break\n",
        "\n",
        "    return '  '.join(ret_phonemes).split(' ')"
      ],
      "execution_count": null,
      "outputs": []
    },
    {
      "cell_type": "code",
      "metadata": {
        "id": "8GQorFWa4K-L"
      },
      "source": [
        "class TextTransform:\n",
        "    \"\"\"Maps characters to integers and vice versa\"\"\"\n",
        "    def __init__(self):\n",
        "        char_map_str = \"\"\"\n",
        "        ' 0\n",
        "        <SPACE> 1\n",
        "        a 2\n",
        "        b 3\n",
        "        c 4\n",
        "        d 5\n",
        "        e 6\n",
        "        f 7\n",
        "        g 8\n",
        "        h 9\n",
        "        i 10\n",
        "        j 11\n",
        "        k 12\n",
        "        l 13\n",
        "        m 14\n",
        "        n 15\n",
        "        o 16\n",
        "        p 17\n",
        "        q 18\n",
        "        r 19\n",
        "        s 20\n",
        "        t 21\n",
        "        u 22\n",
        "        v 23\n",
        "        w 24\n",
        "        x 25\n",
        "        y 26\n",
        "        z 27\n",
        "        / 28\n",
        "        / 29\n",
        "        / -1\n",
        "        \"\"\"\n",
        "        phoneme_map_str = \"\"\"\n",
        "        <SPACE> 0\n",
        "        iy 1\n",
        "        ih 2\n",
        "        eh 3\n",
        "        ae 4\n",
        "        ah 5\n",
        "        uw 6\n",
        "        uh 7\n",
        "        aa 8\n",
        "        ey 9\n",
        "        ay 10\n",
        "        oy 11\n",
        "        aw 12\n",
        "        ow 13\n",
        "        l 14\n",
        "        r 15\n",
        "        y 16\n",
        "        w 17\n",
        "        er 18\n",
        "        m 19\n",
        "        n 20\n",
        "        ng 21\n",
        "        ch 22\n",
        "        jh 23\n",
        "        dh 24\n",
        "        b 25\n",
        "        d 26\n",
        "        dx 27\n",
        "        g 28\n",
        "        p 29\n",
        "        t 30\n",
        "        k 31\n",
        "        z 32\n",
        "        v 33\n",
        "        f 34\n",
        "        th 35\n",
        "        s 36\n",
        "        sh 37\n",
        "        hh 38\n",
        "        aa 39\n",
        "        ao 40\n",
        "        iy 41\n",
        "        // -1\n",
        "        // 255\n",
        "        \"\"\"\n",
        "        \n",
        "        self.char_map = {}\n",
        "        self.phoneme_map = {}\n",
        "        self.index_map = {}\n",
        "        self.index_map2 = {}\n",
        "\n",
        "        for line in char_map_str.strip().split('\\n'):\n",
        "            ch, index = line.split()\n",
        "            self.char_map[ch] = int(index)\n",
        "            self.index_map[int(index)] = ch\n",
        "        self.index_map[1] = ' '\n",
        "\n",
        "        for line in phoneme_map_str.strip().split('\\n'):\n",
        "            ch, index = line.split()\n",
        "            self.phoneme_map[ch] = int(index)\n",
        "            self.index_map2[int(index)] = ch\n",
        "        self.index_map2[1] = ' '\n",
        "\n",
        "    def text_to_int(self, text):\n",
        "        \"\"\" Use a character map and convert text to an integer sequence \"\"\"\n",
        "        int_sequence = []\n",
        "        for c in text:\n",
        "            if c == \"-\":\n",
        "                ch = self.char_map['<SPACE>']\n",
        "            else:\n",
        "                ch = self.char_map[c]\n",
        "            int_sequence.append(ch)\n",
        "        return int_sequence\n",
        "\n",
        "    def phoneme_to_int(self, text):\n",
        "        \"\"\" Use a character map and convert text to an integer sequence \"\"\"\n",
        "        int_sequence = []\n",
        "        for c in text:\n",
        "            if c == \"\":\n",
        "                ch = self.phoneme_map['<SPACE>']\n",
        "            else:\n",
        "                ch = self.phoneme_map[c]\n",
        "            int_sequence.append(ch)\n",
        "        return int_sequence\n",
        "\n",
        "    def int_to_text(self, labels):\n",
        "        \"\"\" Use a character map and convert integer labels to an text sequence \"\"\"\n",
        "        string = []\n",
        "        for i in labels:\n",
        "            string.append(self.index_map[i])\n",
        "        return ''.join(string)\n",
        "\n",
        "    def int_to_phoneme(self, labels):\n",
        "        \"\"\" Use a character map and convert integer labels to an text sequence \"\"\"\n",
        "        string = []\n",
        "        for i in labels:\n",
        "            string.append(self.index_map2[int(i)])\n",
        "        return ''.join(string)"
      ],
      "execution_count": null,
      "outputs": []
    },
    {
      "cell_type": "markdown",
      "metadata": {
        "id": "Qg5SrN2uDlik"
      },
      "source": [
        "#### Example of Processing the labels "
      ]
    },
    {
      "cell_type": "code",
      "metadata": {
        "id": "7p24hhtZhuvx",
        "colab": {
          "base_uri": "https://localhost:8080/",
          "height": 70
        },
        "outputId": "bc278734-c4cd-42da-edb4-b061b3474279"
      },
      "source": [
        "texts_train[12], letters2phonemes( remove_characters(texts_train[12].lower(), bad_chars) ), text_transform.phoneme_to_int( letters2phonemes( remove_characters(texts_train[12].lower(), bad_chars) ) )"
      ],
      "execution_count": null,
      "outputs": [
        {
          "output_type": "execute_result",
          "data": {
            "text/plain": [
              "('Turn down the heat',\n",
              " ['t', 'er', 'n', '', 'd', 'aw', 'n', '', 'dh', 'ah', '', 'hh', 'iy', 't'],\n",
              " [30, 18, 20, 0, 26, 12, 20, 0, 24, 5, 0, 38, 41, 30])"
            ]
          },
          "metadata": {
            "tags": []
          },
          "execution_count": 147
        }
      ]
    },
    {
      "cell_type": "markdown",
      "metadata": {
        "id": "qIkdsTBEDq8K"
      },
      "source": [
        "#### This function does all the work mentioned above. Plus we perform a padding on the vectors so that the neural networks receive a fixed input shape. "
      ]
    },
    {
      "cell_type": "code",
      "metadata": {
        "id": "DDkQU7_b4MC6"
      },
      "source": [
        "from keras.preprocessing import sequence\n",
        "\n",
        "def process_data(audio_paths, texts, ratio, bad_chars, padding_value, features = \"mfcc\"):\n",
        "    featurized = []\n",
        "    labels = []\n",
        "    input_lengths = []\n",
        "    label_lengths = []\n",
        "    text_transform = TextTransform()\n",
        "\n",
        "    audio_paths = audio_paths[:int(len(audio_paths)*ratio)]\n",
        "    texts = texts[:int(len(texts)*ratio)]\n",
        "    print(\"There are \"+str(len(audio_paths))+\" audio files.\")\n",
        "\n",
        "    i = 0\n",
        "    for i in range(0, len(audio_paths)):\n",
        "        if features == \"mfcc\":\n",
        "            # audio_feats = preprocessing.normalize(featurize_mfcc(audio_paths[i]))\n",
        "            audio_feats = featurize_mfcc(\"Fluent/\"+audio_paths[i])\n",
        "\n",
        "        elif features == \"spec\":\n",
        "            audio_feats = preprocessing.normalize(\n",
        "                spectrogram_from_file(\"Fluent/\"+audio_paths[i], \n",
        "                step=10, \n",
        "                window=20,\n",
        "                max_freq=8000)\n",
        "            )\n",
        "\n",
        "        try:\n",
        "            # labels.append( text_transform.text_to_int(texts[i].lower()) )\n",
        "            labels.append( text_transform.phoneme_to_int( letters2phonemes( remove_characters(texts[i].lower(), bad_chars) ) ) ) \n",
        "            featurized.append( audio_feats ) \n",
        "            input_lengths.append( audio_feats.shape[0]//2 )\n",
        "            label_lengths.append( len( text_transform.phoneme_to_int( letters2phonemes( remove_characters(texts[i].lower(), bad_chars) ) ) ) )\n",
        "        except Exception as e:\n",
        "            print(\"e \", i)\n",
        "\n",
        "        x_train_len = np.asarray([len(featurized[i]) for i in range( len(featurized) )])\n",
        "        y_train_len = np.asarray([len(labels[i]) for i in range( len(labels) )])\n",
        "        i+=1\n",
        "\n",
        "    featurized = sequence.pad_sequences(featurized, padding=\"post\", value=float(padding_value), dtype='float')\n",
        "    labels = sequence.pad_sequences(labels, padding=\"post\", value=float(padding_value), dtype='int')\n",
        "\n",
        "    featurized = sequence.pad_sequences(featurized, dtype='float32',\n",
        "                                        padding=\"post\", truncating='post')\n",
        "    labels = sequence.pad_sequences(labels, dtype='float32',\n",
        "                                        padding=\"post\", truncating='post')\n",
        "\n",
        "    return featurized, labels, np.array(input_lengths), np.array(label_lengths)"
      ],
      "execution_count": null,
      "outputs": []
    },
    {
      "cell_type": "markdown",
      "metadata": {
        "id": "gUTwKG2c_Q1R"
      },
      "source": [
        "## Make Training & Validation Data"
      ]
    },
    {
      "cell_type": "markdown",
      "metadata": {
        "id": "bdO3oyfDy0Cb"
      },
      "source": [
        "#### input length has to be longer than label\n",
        "##### It would be logical for the length of the text/label to be shorter than the lenght of the audio/input."
      ]
    },
    {
      "cell_type": "code",
      "metadata": {
        "id": "WPAKE42yhg5N",
        "colab": {
          "base_uri": "https://localhost:8080/",
          "height": 208
        },
        "outputId": "79923f04-d2f0-412b-c66d-ab633341f77d"
      },
      "source": [
        "audio_paths_train, texts_train, actions_train, objects_train, locations_train = load_data('fluent_train.json')\n",
        "print(\"Generating Training Data...\")\n",
        "featurized_train, labels_train, input_lengths_train, label_lengths_train = process_data(audio_paths_train, \n",
        "                                                    texts_train, \n",
        "                                                    ratio=1,\n",
        "                                                    bad_chars = [';', ':', '!', '*', ',', '.', '?', '/', '\\\\'], \n",
        "                                                    padding_value=255,\n",
        "                                                    features=\"mfcc\")\n",
        "\n",
        "print(\"Data Generated\\n\")\n",
        "print(\"-\"*100)\n",
        "print(\"Deleting Longer Labels...\")\n",
        "\n",
        "featurized, labels, input_lengths, label_lengths = [], [], [], []\n",
        "i = 0\n",
        "\n",
        "for f, l, il, ll in zip(featurized_train, labels_train, input_lengths_train, label_lengths_train):    \n",
        "    if il > ll:\n",
        "        featurized.append(f)\n",
        "        labels.append(l),\n",
        "        input_lengths.append(il)\n",
        "        label_lengths.append(ll)\n",
        "    else: \n",
        "        print(\"Index : \", i)\n",
        "    i += 1\n",
        "\n",
        "print(\"Longer Labels Deleted\")\n",
        "print(\"-\"*100)\n",
        "print(\"Saving Data...\")\n",
        "\n",
        "np.save(\"fluent_featurized.npy\", featurized)\n",
        "np.save(\"fluent_labels.npy\", labels)\n",
        "np.save(\"fluent_input_lengths.npy\", input_lengths)\n",
        "np.save(\"fluent_label_lengths.npy\", label_lengths)\n",
        "print(\"Train Data Saved !\")"
      ],
      "execution_count": null,
      "outputs": [
        {
          "output_type": "stream",
          "text": [
            "Generating Training Data...\n",
            "There are 23132 audio files.\n",
            "Data Generated\n",
            "\n",
            "----------------------------------------------------------------------------------------------------\n",
            "Deleting Longer Labels...\n",
            "Index :  8447\n",
            "Longer Labels Deleted\n",
            "----------------------------------------------------------------------------------------------------\n",
            "Saving Data...\n",
            "Train Data Saved !\n"
          ],
          "name": "stdout"
        }
      ]
    },
    {
      "cell_type": "code",
      "metadata": {
        "id": "L1rkzI3Z_UFB",
        "colab": {
          "base_uri": "https://localhost:8080/",
          "height": 196
        },
        "outputId": "090d4469-3b16-43ef-c340-803c010cb45c"
      },
      "source": [
        "audio_paths_valid, texts_valid, actions_valid, objects_valid, locations_valid = load_data('fluent_valid.json')\n",
        "print(\"Generating Validation Data...\")\n",
        "featurized_valid, labels_valid, input_lengths_valid, label_lengths_valid = process_data(audio_paths_valid, \n",
        "                                                    texts_valid, \n",
        "                                                    ratio=1,\n",
        "                                                    bad_chars = [';', ':', '!', '*', ',', '.', '?', '/', '\\\\'], \n",
        "                                                    padding_value=255,\n",
        "                                                    features=\"mfcc\")\n",
        "\n",
        "print(\"Data Generated\\n\")\n",
        "print(\"-\"*100)\n",
        "print(\"Deleting Longer Labels...\")\n",
        "\n",
        "featurized, labels, input_lengths, label_lengths = [], [], [], []\n",
        "i = 0\n",
        "\n",
        "for f, l, il, ll in zip(featurized_valid, labels_valid, input_lengths_valid, label_lengths_valid):    \n",
        "    if il > ll:\n",
        "        featurized.append(f)\n",
        "        labels.append(l),\n",
        "        input_lengths.append(il)\n",
        "        label_lengths.append(ll)\n",
        "    else: \n",
        "        print(\"Index : \", i)\n",
        "    i += 1\n",
        "\n",
        "print(\"Longer Labels Deleted\")\n",
        "print(\"-\"*100)\n",
        "print(\"Saving Data...\")\n",
        "\n",
        "np.save(\"fluent_featurized_valid.npy\", featurized)\n",
        "np.save(\"fluent_labels_valid.npy\", labels)\n",
        "np.save(\"fluent_input_lengths_valid.npy\", input_lengths)\n",
        "np.save(\"fluent_label_lengths_valid.npy\", label_lengths)\n",
        "print(\"Validation Data Saved !\")"
      ],
      "execution_count": null,
      "outputs": [
        {
          "output_type": "stream",
          "text": [
            "Generating Validation Data...\n",
            "There are 3118 audio files.\n",
            "Data Generated\n",
            "\n",
            "----------------------------------------------------------------------------------------------------\n",
            "Deleting Longer Labels...\n",
            "Longer Labels Deleted\n",
            "----------------------------------------------------------------------------------------------------\n",
            "Saving Data...\n",
            "Validation Data Saved !\n"
          ],
          "name": "stdout"
        }
      ]
    },
    {
      "cell_type": "markdown",
      "metadata": {
        "id": "GNAGZls9EE4u"
      },
      "source": [
        "# Load Data"
      ]
    },
    {
      "cell_type": "code",
      "metadata": {
        "id": "XljRxUvnfMo0"
      },
      "source": [
        "# Load Train & Valid Data\n",
        "\n",
        "fluent_featurized_train = np.load(\"fluent_featurized.npy\")\n",
        "fluent_labels_train = np.load(\"fluent_labels.npy\")\n",
        "fluent_input_lengths_train = np.load(\"fluent_input_lengths.npy\")\n",
        "fluent_label_lengths_train = np.load(\"fluent_label_lengths.npy\")\n",
        "\n",
        "fluent_featurized_valid = np.load(\"fluent_featurized_valid.npy\")\n",
        "fluent_labels_valid = np.load(\"fluent_labels_valid.npy\")\n",
        "fluent_input_lengths_valid = np.load(\"fluent_input_lengths_valid.npy\")\n",
        "fluent_label_lengths_valid = np.load(\"fluent_label_lengths_valid.npy\")"
      ],
      "execution_count": null,
      "outputs": []
    },
    {
      "cell_type": "code",
      "metadata": {
        "id": "wjZ5MRQoFZy0",
        "colab": {
          "base_uri": "https://localhost:8080/",
          "height": 88
        },
        "outputId": "6741f235-2b59-4330-eff1-22611e7aaba3"
      },
      "source": [
        "# Text is preprocessed (special characters and removed)\n",
        "print(remove_characters(texts_test[index].lower(), bad_chars))\n",
        "# Text is Converted to phonemes\n",
        "print( letters2phonemes( remove_characters(texts_test[index].lower(), bad_chars) ) )\n",
        "# Converted to integers using a map/dictionnary\n",
        "print(text_transform.phoneme_to_int( letters2phonemes( remove_characters(texts_test[index].lower(), bad_chars) ) ))\n",
        "# Example of a predicted sentence by the model\n",
        "print(text_transform.int_to_phoneme( text_transform.phoneme_to_int( letters2phonemes( remove_characters(texts_test[index].lower(), bad_chars) ) ) ))"
      ],
      "execution_count": null,
      "outputs": [
        {
          "output_type": "stream",
          "text": [
            "pause the music\n",
            "['p', 'ao', 'z', '', 'dh', 'ah', '', 'm', 'y', 'uw', 'z', 'ih', 'k']\n",
            "[29, 40, 32, 0, 24, 5, 0, 19, 16, 6, 32, 2, 31]\n",
            "paoz<SPACE>dhah<SPACE>myuwzihk\n"
          ],
          "name": "stdout"
        }
      ]
    },
    {
      "cell_type": "markdown",
      "metadata": {
        "id": "i0X4xG0f50Hx"
      },
      "source": [
        "# Modeling"
      ]
    },
    {
      "cell_type": "markdown",
      "metadata": {
        "id": "wKQh-ppIsVAL"
      },
      "source": [
        "**You can use either RNNs, LSTMs or GRUs.<br>\r\n",
        "In this project we used GRUs, because compared to LSTMs, they perform well with small amount of Data.**\r\n",
        "**The CTC function we used is from github : https://github.com/cyprienruffino/CTCModel**"
      ]
    },
    {
      "cell_type": "code",
      "metadata": {
        "id": "OZzuwaBF52Oi",
        "colab": {
          "base_uri": "https://localhost:8080/",
          "height": 782
        },
        "outputId": "fddd1ac0-1a9b-4274-b0eb-6bf82bd72709"
      },
      "source": [
        "def final_model(input_dim, units, output_dim, padding_value):\n",
        "\n",
        "    # Main acoustic input\n",
        "    input_data = Input(name='the_input', shape=(None, input_dim))\n",
        "    masked_input = Masking(mask_value = padding_value)(input_data)\n",
        "\n",
        "    bidirectional_rnn_1 = Bidirectional(GRU(256, activation=None, return_sequences=True, implementation=2, name='bidir_rnn_1'))(masked_input)\n",
        "    activation = Activation('relu')(bidirectional_rnn_1)\n",
        "    drop = Dropout(rate = 0.6)(activation)\n",
        "\n",
        "    bidirectional_rnn_2 = Bidirectional(GRU(256, activation=None, return_sequences=True, implementation=2, name='bidir_rnn_2'))(activation)\n",
        "    activation = Activation('relu')(bidirectional_rnn_2)\n",
        "    drop = Dropout(rate = 0.6)(activation)\n",
        "\n",
        "    time_dense = TimeDistributed(Dense(output_dim))(activation)\n",
        "    y_pred = Activation('softmax', name='softmax')(time_dense)\n",
        "\n",
        "    model = CTCModel.CTCModel([input_data], [y_pred])\n",
        "    model.compile( optimizer=Adam(lr=0.0001) )\n",
        "    \n",
        "    model.summary()\n",
        "    return model\n",
        "\n",
        "training_model = final_model(input_dim=13, output_dim=43, units=256, padding_value=255)"
      ],
      "execution_count": null,
      "outputs": [
        {
          "output_type": "stream",
          "text": [
            "WARNING:tensorflow:From /usr/local/lib/python3.6/dist-packages/tensorflow_core/python/ops/resource_variable_ops.py:1630: calling BaseResourceVariable.__init__ (from tensorflow.python.ops.resource_variable_ops) with constraint is deprecated and will be removed in a future version.\n",
            "Instructions for updating:\n",
            "If using Keras pass *_constraint arguments to layers.\n",
            "WARNING:tensorflow:From /usr/local/lib/python3.6/dist-packages/tensorflow_core/python/keras/backend.py:3994: where (from tensorflow.python.ops.array_ops) is deprecated and will be removed in a future version.\n",
            "Instructions for updating:\n",
            "Use tf.where in 2.0, which has the same broadcast rule as np.where\n",
            "WARNING:tensorflow:Large dropout rate: 0.6 (>0.5). In TensorFlow 2.x, dropout() uses dropout rate instead of keep_prob. Please ensure that this is intended.\n",
            "WARNING:tensorflow:Large dropout rate: 0.6 (>0.5). In TensorFlow 2.x, dropout() uses dropout rate instead of keep_prob. Please ensure that this is intended.\n",
            "Model: \"model_2\"\n",
            "__________________________________________________________________________________________________\n",
            "Layer (type)                    Output Shape         Param #     Connected to                     \n",
            "==================================================================================================\n",
            "the_input (InputLayer)          (None, None, 13)     0                                            \n",
            "__________________________________________________________________________________________________\n",
            "masking_1 (Masking)             (None, None, 13)     0           the_input[0][0]                  \n",
            "__________________________________________________________________________________________________\n",
            "bidirectional_1 (Bidirectional) (None, None, 512)    414720      masking_1[0][0]                  \n",
            "__________________________________________________________________________________________________\n",
            "activation_1 (Activation)       (None, None, 512)    0           bidirectional_1[0][0]            \n",
            "__________________________________________________________________________________________________\n",
            "bidirectional_2 (Bidirectional) (None, None, 512)    1181184     activation_1[0][0]               \n",
            "__________________________________________________________________________________________________\n",
            "activation_2 (Activation)       (None, None, 512)    0           bidirectional_2[0][0]            \n",
            "__________________________________________________________________________________________________\n",
            "time_distributed_1 (TimeDistrib (None, None, 43)     22059       activation_2[0][0]               \n",
            "__________________________________________________________________________________________________\n",
            "softmax (Activation)            (None, None, 43)     0           time_distributed_1[0][0]         \n",
            "__________________________________________________________________________________________________\n",
            "labels (InputLayer)             (None, None)         0                                            \n",
            "__________________________________________________________________________________________________\n",
            "input_length (InputLayer)       (None, 1)            0                                            \n",
            "__________________________________________________________________________________________________\n",
            "label_length (InputLayer)       (None, 1)            0                                            \n",
            "__________________________________________________________________________________________________\n",
            "CTCloss (Lambda)                (None, 1)            0           softmax[0][0]                    \n",
            "                                                                 labels[0][0]                     \n",
            "                                                                 input_length[0][0]               \n",
            "                                                                 label_length[0][0]               \n",
            "==================================================================================================\n",
            "Total params: 1,617,963\n",
            "Trainable params: 1,617,963\n",
            "Non-trainable params: 0\n",
            "__________________________________________________________________________________________________\n"
          ],
          "name": "stdout"
        }
      ]
    },
    {
      "cell_type": "markdown",
      "metadata": {
        "id": "DxHOO8pGEcDW"
      },
      "source": [
        "# Training"
      ]
    },
    {
      "cell_type": "code",
      "metadata": {
        "id": "QTahw8sC6HUs",
        "colab": {
          "base_uri": "https://localhost:8080/",
          "height": 381
        },
        "outputId": "44d56fc7-93db-4f4c-ce8d-a7a5551e846e"
      },
      "source": [
        "hist = training_model.fit(x=[fluent_featurized_train[:15000], fluent_labels_train[:15000], fluent_input_lengths_train[:15000], fluent_label_lengths_train[:15000]],\n",
        "        y=np.zeros(len(fluent_featurized_train[:15000])),\n",
        "        batch_size = 32,    \n",
        "        validation_data = ([fluent_featurized_valid, fluent_labels_valid, fluent_input_lengths_valid, fluent_label_lengths_valid], np.zeros(len(fluent_featurized_valid))),\n",
        "        epochs = 10,\n",
        "        path = 'final_results')\n",
        "\n",
        "training_model.save_model('final_results')"
      ],
      "execution_count": null,
      "outputs": [
        {
          "output_type": "stream",
          "text": [
            "Train on 15000 samples, validate on 3118 samples\n",
            "Epoch 1/10\n",
            "15000/15000 [==============================] - 2913s 194ms/step - loss: 72.3196 - val_loss: 62.9383\n",
            "Epoch 2/10\n",
            "15000/15000 [==============================] - 2891s 193ms/step - loss: 56.8358 - val_loss: 56.1487\n",
            "Epoch 3/10\n",
            "15000/15000 [==============================] - 2893s 193ms/step - loss: 47.6332 - val_loss: 46.8984\n",
            "Epoch 4/10\n",
            "15000/15000 [==============================] - 2881s 192ms/step - loss: 37.9665 - val_loss: 40.5452\n",
            "Epoch 5/10\n",
            "15000/15000 [==============================] - 2878s 192ms/step - loss: 30.9828 - val_loss: 36.0147\n",
            "Epoch 6/10\n",
            "15000/15000 [==============================] - 2878s 192ms/step - loss: 26.4008 - val_loss: 32.4349\n",
            "Epoch 7/10\n",
            "15000/15000 [==============================] - 2852s 190ms/step - loss: 23.1889 - val_loss: 31.7060\n",
            "Epoch 8/10\n",
            "15000/15000 [==============================] - 2835s 189ms/step - loss: 21.1642 - val_loss: 29.5339\n",
            "Epoch 9/10\n",
            "15000/15000 [==============================] - 2826s 188ms/step - loss: 19.2297 - val_loss: 48.7293\n",
            "Epoch 10/10\n",
            "15000/15000 [==============================] - 2822s 188ms/step - loss: 22.6347 - val_loss: 29.3326\n"
          ],
          "name": "stdout"
        }
      ]
    },
    {
      "cell_type": "code",
      "metadata": {
        "id": "BstyMkxDldlc",
        "colab": {
          "base_uri": "https://localhost:8080/",
          "height": 208
        },
        "outputId": "e64703c5-4942-4cb7-ae49-6769ea65a79b"
      },
      "source": [
        "hist2 = training_model.fit(x=[fluent_featurized_train[15000:23000], fluent_labels_train[15000:23000], fluent_input_lengths_train[15000:23000], fluent_label_lengths_train[15000:23000]],\n",
        "        y=np.zeros(len(fluent_featurized_train[15000:23000])),\n",
        "        batch_size = 64,\n",
        "        validation_data = ([fluent_featurized_valid, fluent_labels_valid, fluent_input_lengths_valid, fluent_label_lengths_valid], np.zeros(len(fluent_featurized_valid))),\n",
        "        epochs = 5,\n",
        "        path = 'final_results')\n",
        "\n",
        "training_model.save_model('final_results')"
      ],
      "execution_count": null,
      "outputs": [
        {
          "output_type": "stream",
          "text": [
            "Train on 8000 samples, validate on 3118 samples\n",
            "Epoch 1/5\n",
            "8000/8000 [==============================] - 785s 98ms/step - loss: 24.3578 - val_loss: 26.7952\n",
            "Epoch 2/5\n",
            "8000/8000 [==============================] - 783s 98ms/step - loss: 20.4547 - val_loss: 25.7041\n",
            "Epoch 3/5\n",
            "8000/8000 [==============================] - 783s 98ms/step - loss: 18.2655 - val_loss: 25.7582\n",
            "Epoch 4/5\n",
            "8000/8000 [==============================] - 783s 98ms/step - loss: 16.4976 - val_loss: 25.4756\n",
            "Epoch 5/5\n",
            "8000/8000 [==============================] - 782s 98ms/step - loss: 15.2941 - val_loss: 25.7252\n"
          ],
          "name": "stdout"
        }
      ]
    },
    {
      "cell_type": "code",
      "metadata": {
        "id": "E51teT3aYpyt",
        "colab": {
          "base_uri": "https://localhost:8080/",
          "height": 296
        },
        "outputId": "c11c9e0a-8eff-4dad-bfb5-2e21276d2d52"
      },
      "source": [
        "import matplotlib.pyplot as plt\n",
        "from scipy.ndimage.filters import gaussian_filter1d\n",
        "\n",
        "loss = hist.history['loss'] + hist2.history['loss']\n",
        "val_loss = hist.history['val_loss'] + hist2.history['val_loss']\n",
        "\n",
        "losssmoothed = gaussian_filter1d(loss, sigma=2)\n",
        "vallosssmoothed = gaussian_filter1d(val_loss, sigma=2)\n",
        "# multiple line plot\n",
        "plt.plot(losssmoothed, label='loss', color='red')\n",
        "plt.plot(vallosssmoothed, label='val_loss', color='black')\n",
        "plt.xlabel(\"Epochs\")\n",
        "plt.ylabel(\"Loss\")\n",
        "plt.legend()"
      ],
      "execution_count": null,
      "outputs": [
        {
          "output_type": "execute_result",
          "data": {
            "text/plain": [
              "<matplotlib.legend.Legend at 0x7f1db365fb38>"
            ]
          },
          "metadata": {
            "tags": []
          },
          "execution_count": 67
        },
        {
          "output_type": "display_data",
          "data": {
            "image/png": "[encoded data removed]",
            "text/plain": [
              "<Figure size 432x288 with 1 Axes>"
            ]
          },
          "metadata": {
            "tags": [],
            "needs_background": "light"
          }
        }
      ]
    },
    {
      "cell_type": "markdown",
      "metadata": {
        "id": "RM8ghaJlAJ0U"
      },
      "source": [
        "# Testing"
      ]
    },
    {
      "cell_type": "markdown",
      "metadata": {
        "id": "o9sLjpqg7lqn"
      },
      "source": [
        "# Generate Testing Data"
      ]
    },
    {
      "cell_type": "code",
      "metadata": {
        "id": "ey-DFyAZWdcG",
        "colab": {
          "base_uri": "https://localhost:8080/",
          "height": 173
        },
        "outputId": "654ba1ac-43bc-4135-bdae-00f39fe87d4d"
      },
      "source": [
        "audio_paths_test, texts_test, actions_test, objects_test, locations_test = load_data('fluent_test.json')\n",
        "featurized_test, labels_test, input_lengths_test, label_lengths_test = process_data(audio_paths_test, \n",
        "                                                        texts_test, \n",
        "                                                        ratio=1, \n",
        "                                                        bad_chars = [';', ':', '!', '*', ',', '.', '?', '/', '\\\\'], \n",
        "                                                        padding_value=255, \n",
        "                                                        features=\"mfcc\")\n",
        "\n",
        "print(\"Data Generated\\n\")\n",
        "print(\"-\"*100)\n",
        "print(\"Deleting Longer Labels...\")\n",
        "\n",
        "featurized, labels, input_lengths, label_lengths = [], [], [], []\n",
        "i = 0\n",
        "\n",
        "for f, l, il, ll in zip(featurized_test, labels_test, input_lengths_test, label_lengths_test):    \n",
        "    if il > ll:\n",
        "        featurized.append(f)\n",
        "        labels.append(l)\n",
        "        input_lengths.append(il)\n",
        "        label_lengths.append(ll)\n",
        "    else: \n",
        "        print(\"Index : \", i)\n",
        "    i += 1\n",
        "\n",
        "print(\"Longer Labels Deleted\")\n",
        "print(\"-\"*100)\n",
        "print(\"Saving Data...\")\n",
        "\n",
        "np.save(\"fluent_featurized_test.npy\", featurized)\n",
        "np.save(\"fluent_labels_test.npy\", labels)\n",
        "np.save(\"fluent_input_lengths_test.npy\", input_lengths)\n",
        "np.save(\"fluent_label_lengths_test.npy\", label_lengths)\n",
        "print(\"Testing Data Saved !\")"
      ],
      "execution_count": null,
      "outputs": [
        {
          "output_type": "stream",
          "text": [
            "There are 3793 audio files.\n",
            "Data Generated\n",
            "\n",
            "----------------------------------------------------------------------------------------------------\n",
            "Deleting Longer Labels...\n",
            "Longer Labels Deleted\n",
            "----------------------------------------------------------------------------------------------------\n",
            "Saving Data...\n",
            "Testing Data Saved !\n"
          ],
          "name": "stdout"
        }
      ]
    },
    {
      "cell_type": "code",
      "metadata": {
        "id": "YyE17NweyCl4"
      },
      "source": [
        "featurized_test = np.load(\"fluent_featurized_test.npy\")\n",
        "labels_test = np.load(\"fluent_labels_test.npy\")\n",
        "input_lengths_test = np.load(\"fluent_input_lengths_test.npy\")\n",
        "label_lengths_test = np.load(\"fluent_label_lengths_test.npy\")"
      ],
      "execution_count": null,
      "outputs": []
    },
    {
      "cell_type": "code",
      "metadata": {
        "id": "u2eqi0M8vT6D"
      },
      "source": [
        "pred = training_model.predict(x=[featurized_test[:3700], input_lengths_test[:3700]], batch_size=16)"
      ],
      "execution_count": null,
      "outputs": []
    },
    {
      "cell_type": "code",
      "metadata": {
        "id": "NcP_im_dRpCW"
      },
      "source": [
        "np.save(\"predictions.npy\", pred)"
      ],
      "execution_count": null,
      "outputs": []
    },
    {
      "cell_type": "code",
      "metadata": {
        "id": "jN1obqUuRzdw"
      },
      "source": [
        "pred = np.load(\"predictions.npy\", allow_pickle=True)"
      ],
      "execution_count": null,
      "outputs": []
    },
    {
      "cell_type": "code",
      "metadata": {
        "id": "ld0cz6WsA57N",
        "colab": {
          "base_uri": "https://localhost:8080/",
          "height": 34
        },
        "outputId": "881df001-ff16-4aa9-bca1-adaaa7a57785"
      },
      "source": [
        "def phonemes2text(sentence):\n",
        "    ret_text = []\n",
        "    \n",
        "    # print( \" \".join(sentence.split('<SPACE>')) )\n",
        "    for word in sentence.split('<SPACE>'):\n",
        "\n",
        "        for line in open('g2p/g2p/mappings/langs/eng/cmudict_SPHINX_40.txt'):\n",
        "            split = line.strip().split() # the_word split[0] /// phonemes split[1:]\n",
        "            wordInPh = remove_characters(\" \".join(split[1:]), [' ']).lower()\n",
        "\n",
        "            if word == wordInPh:\n",
        "                ret_text.append(split[0])\n",
        "                break\n",
        "            \n",
        "            else:\n",
        "                # ret_text.append(\"WHAT ?\")\n",
        "                # print('none')\n",
        "                continue\n",
        "                \n",
        "    return \" \".join(ret_text)\n",
        "\n",
        "phonemes2text(\"tern<SPACE>aof<SPACE>dhah<SPACE>myuwzk\")"
      ],
      "execution_count": null,
      "outputs": [
        {
          "output_type": "execute_result",
          "data": {
            "application/vnd.google.colaboratory.intrinsic+json": {
              "type": "string"
            },
            "text/plain": [
              "'TURN OFF THE'"
            ]
          },
          "metadata": {
            "tags": []
          },
          "execution_count": 12
        }
      ]
    },
    {
      "cell_type": "code",
      "metadata": {
        "id": "0OBdp-kKvV0M",
        "colab": {
          "base_uri": "https://localhost:8080/",
          "height": 450
        },
        "outputId": "48481723-79ad-42d2-f623-938ddfed7659"
      },
      "source": [
        "text_transform = TextTransform()\n",
        "print(\"There are \", len(featurized_test[:3700]), \" audio samples.\")\n",
        "index = int(input(\"Enter audio index : \"))\n",
        "\n",
        "pred[index] = [int(i) for i in pred[index]]\n",
        "labels_test[index] = [int(i) for i in labels_test[index]]\n",
        "\n",
        "print('-'*80)\n",
        "\n",
        "print(\"Predicted Transcript :\",  pred[index] )\n",
        "print('-'*80)\n",
        "print(\"Actual Transcript :\",  labels_test[index], '\\n' )\n",
        "# Convert to Phonemes & Transcript\n",
        "print('*'*80)\n",
        "print(\"CONVERT TO PHONEMES\")\n",
        "print('*'*80)\n",
        "print(\"\\nPredicted Phonemes :\", remove_characters(text_transform.int_to_phoneme( pred[index] ), bad_chars = [';', ':', '!', '*', ',', '.', '?', '/', '\\\\']) )\n",
        "print('-'*80)\n",
        "print(\"Actual Phonemes :\",  remove_characters(text_transform.int_to_phoneme( labels_test[index] ), bad_chars = [';', ':', '!', '*', ',', '.', '?', '/', '\\\\']) )\n",
        "print(\"\\n\")\n",
        "print('*'*80)\n",
        "print(\"CONVERT TO PHONEMES\")\n",
        "print('*'*80)\n",
        "print(\"\\nPredicted Transcript :\", phonemes2text( remove_characters(text_transform.int_to_phoneme( pred[index] ), bad_chars = [';', ':', '!', '*', ',', '.', '?', '/', '\\\\']) ) )\n",
        "print('-'*80)\n",
        "print(\"Actual Transcript :\",  phonemes2text( remove_characters(text_transform.int_to_phoneme( labels_test[index] ), bad_chars = [';', ':', '!', '*', ',', '.', '?', '/', '\\\\']) ) )\n",
        "\n",
        "# 100% Accurate Predictions index : 2214, 500, 1325, 497\n",
        "# Good Predictions index : 500, 63, 997, 3000, 2000, 167\n",
        "# Almost Good Predictions index : 510, 620, 630, 225, 3669\n",
        "# Bad Predictions index : 3250, 3674, 1000, 1598"
      ],
      "execution_count": null,
      "outputs": [
        {
          "output_type": "stream",
          "text": [
            "There are  3700  audio samples.\n",
            "Enter audio index : 2214\n",
            "--------------------------------------------------------------------------------\n",
            "Predicted Transcript : [36, 17, 2, 22, 0, 39, 20, 0, 24, 5, 0, 14, 10, 30, 36, 0, 2, 20, 0, 24, 5, 0, 25, 3, 26, 15, 6, 19]\n",
            "--------------------------------------------------------------------------------\n",
            "Actual Transcript : [ 36.  17.   2.  22.   0.  39.  20.   0.  24.   5.   0.  14.  10.  30.\n",
            "  36.   0.   2.  20.   0.  24.   5.   0.  25.   3.  26.  15.   6.  19.\n",
            " 255. 255. 255. 255. 255. 255. 255. 255. 255. 255. 255. 255. 255. 255.] \n",
            "\n",
            "********************************************************************************\n",
            "CONVERT TO PHONEMES\n",
            "********************************************************************************\n",
            "\n",
            "Predicted Phonemes : swihch<SPACE>aan<SPACE>dhah<SPACE>layts<SPACE>ihn<SPACE>dhah<SPACE>behdruwm\n",
            "--------------------------------------------------------------------------------\n",
            "Actual Phonemes : swihch<SPACE>aan<SPACE>dhah<SPACE>layts<SPACE>ihn<SPACE>dhah<SPACE>behdruwm\n",
            "\n",
            "\n",
            "********************************************************************************\n",
            "CONVERT TO PHONEMES\n",
            "********************************************************************************\n",
            "\n",
            "Predicted Transcript : SWITCH ON THE LIGHT'S IN THE BEDROOM\n",
            "--------------------------------------------------------------------------------\n",
            "Actual Transcript : SWITCH ON THE LIGHT'S IN THE BEDROOM\n"
          ],
          "name": "stdout"
        }
      ]
    },
    {
      "cell_type": "markdown",
      "metadata": {
        "id": "rr036l35GmqC"
      },
      "source": [
        "## Convert to text"
      ]
    },
    {
      "cell_type": "code",
      "metadata": {
        "id": "GNHkf9pIRl8N",
        "colab": {
          "base_uri": "https://localhost:8080/",
          "height": 34
        },
        "outputId": "42b193f4-fa90-4bd9-c825-bb3e21c01be9"
      },
      "source": [
        "def WER(pred, actual):\n",
        "\n",
        "    diff = []\n",
        "    error = []\n",
        "\n",
        "    for prediction, truth in zip(pred, actual):\n",
        "        diff = []\n",
        "        prediction = remove_characters(text_transform.int_to_phoneme( prediction ).replace('<SPACE>', ' <SPACE> '), bad_chars = [';', ':', '!', '*', ',', '.', '?', '/', '\\\\', ])\n",
        "        truth = remove_characters(text_transform.int_to_phoneme( truth ).replace('<SPACE>', ' <SPACE> '), bad_chars = [';', ':', '!', '*', ',', '.', '?', '/', '\\\\'])\n",
        "\n",
        "    \n",
        "        for item in prediction.split(' '):\n",
        "            if item not in truth.split(' '):\n",
        "                diff.append(item)\n",
        "\n",
        "        \n",
        "        error.append((len(diff) / len(prediction.split(' '))) * 100)\n",
        "\n",
        "        # break\n",
        "    print(\"WER : \",sum(error) / len(error)  )\n",
        "\n",
        "WER(pred, labels_test)"
      ],
      "execution_count": null,
      "outputs": [
        {
          "output_type": "stream",
          "text": [
            "WER :  36.63525451728434\n"
          ],
          "name": "stdout"
        }
      ]
    }
  ]
}